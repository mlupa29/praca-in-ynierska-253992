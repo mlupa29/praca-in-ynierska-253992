{
 "cells": [
  {
   "cell_type": "code",
   "execution_count": null,
   "metadata": {},
   "outputs": [],
   "source": [
    "import numpy as np\n",
    "import pandas as pd\n",
    "import os\n",
    "import time\n",
    "import tensorflow as tf\n",
    "from tensorflow import keras\n",
    "from tensorflow.keras.models import Sequential\n",
    "from tensorflow.keras.optimizers import Adam, Adamax\n",
    "from tensorflow.keras.metrics import categorical_crossentropy\n",
    "from tensorflow.keras.preprocessing.image import ImageDataGenerator\n",
    "from tensorflow.keras.layers import Conv2D, MaxPooling2D, Flatten, Dense, Activation, Dropout, BatchNormalization\n",
    "from tensorflow.keras import regularizers\n",
    "from tensorflow.keras.callbacks import Callback, EarlyStopping\n",
    "from tqdm import tqdm\n",
    "from sklearn.model_selection import train_test_split\n",
    "from sklearn.metrics import confusion_matrix\n",
    "from tensorflow.keras.callbacks import TensorBoard\n",
    "from tensorflow.keras.applications import ResNet50\n",
    "from tensorflow.keras.models import Model\n",
    "from tensorflow.keras.layers import Input\n",
    "from tensorflow.keras import regularizers\n",
    "import matplotlib.pyplot as plt\n",
    "import seaborn as sns\n"
   ]
  },
  {
   "cell_type": "markdown",
   "metadata": {},
   "source": [
    "# Przygotowanie danych"
   ]
  },
  {
   "cell_type": "code",
   "execution_count": null,
   "metadata": {},
   "outputs": [],
   "source": [
    "def define_paths(dir):\n",
    "    filepaths = []\n",
    "    labels = []\n",
    "\n",
    "    for root, _, files in os.walk(dir):\n",
    "        for file in files:\n",
    "            filepaths.append(os.path.join(root, file))\n",
    "            labels.append(os.path.basename(root))\n",
    "\n",
    "    return filepaths, labels\n",
    "\n",
    "def create_df(data_dir):\n",
    "    files, classes = define_paths(data_dir)\n",
    "    df = pd.DataFrame({'filepaths': files, 'labels': classes})\n",
    "\n",
    "    strat = df['labels']\n",
    "    train_df, dummy_df = train_test_split(df, train_size=0.7, shuffle=True, random_state=123, stratify=strat)\n",
    "\n",
    "    strat = dummy_df['labels']\n",
    "    valid_df, test_df = train_test_split(dummy_df, train_size=0.5, shuffle=True, random_state=123, stratify=strat)\n",
    "\n",
    "    return train_df, valid_df, test_df\n"
   ]
  },
  {
   "cell_type": "code",
   "execution_count": null,
   "metadata": {},
   "outputs": [],
   "source": [
    "def create_image_data_generator(train_df, valid_df, test_df, batch_size):\n",
    "\n",
    "    image_size = (224, 224)\n",
    "    color = 'rgb'\n",
    "    \n",
    "    ts_len = len(test_df)\n",
    "    test_batch_size = max(sorted([ts_len // n for n in range(1, ts_len + 1) if ts_len % n == 0 and ts_len / n <= 80]))\n",
    "\n",
    "    def preprocess_image(image):\n",
    "        return image\n",
    "\n",
    "\n",
    "    train_data_generator = ImageDataGenerator(preprocessing_function=preprocess_image, horizontal_flip=True)\n",
    "    test_data_generator = ImageDataGenerator(preprocessing_function=preprocess_image)\n",
    "\n",
    "    train_generator = train_data_generator.flow_from_dataframe(train_df, x_col='filepaths', y_col='labels', target_size=image_size, class_mode='categorical',\n",
    "                                                               color_mode=color, shuffle=True, batch_size=batch_size)\n",
    "\n",
    "    valid_generator = test_data_generator.flow_from_dataframe(valid_df, x_col='filepaths', y_col='labels', target_size=image_size, class_mode='categorical',\n",
    "                                                             color_mode=color, shuffle=True, batch_size=batch_size)\n",
    "\n",
    "    test_generator = test_data_generator.flow_from_dataframe(test_df, x_col='filepaths', y_col='labels', target_size=image_size, class_mode='categorical',\n",
    "                                                            color_mode=color, shuffle=False, batch_size=test_batch_size)\n",
    "\n",
    "    return train_generator, valid_generator, test_generator\n"
   ]
  },
  {
   "cell_type": "code",
   "execution_count": null,
   "metadata": {},
   "outputs": [],
   "source": [
    "class CustomCallback(Callback):\n",
    "    def __init__(self, patience=3):\n",
    "        super(CustomCallback, self).__init__()\n",
    "        self.patience = patience\n",
    "        self.wait_epochs = 0\n",
    "\n",
    "    def on_epoch_begin(self, epoch, logs=None):\n",
    "        self.epoch_start_time = time.time()\n",
    "        self.pbar = tqdm(total=self.params['steps'], desc=f'Epoch {epoch + 1}/{self.params[\"epochs\"]}', unit='batch')\n",
    "\n",
    "    def on_epoch_end(self, epoch, logs=None):\n",
    "        train_accuracy = logs.get('accuracy')\n",
    "        val_accuracy = logs.get('val_accuracy')\n",
    "\n",
    "        print(f'Epoch {epoch + 1} - Training Accuracy: {train_accuracy:.4f} - Validation Accuracy: {val_accuracy:.4f}')\n",
    "        self.pbar.close()\n",
    "\n",
    "    def on_batch_end(self, batch, logs=None):\n",
    "        self.pbar.update(1)\n",
    "\n",
    "    def on_epoch_end(self, epoch, logs=None):\n",
    "        val_accuracy = logs.get('val_accuracy')\n",
    "\n",
    "        if epoch > 0 and val_accuracy <= self.best_val_accuracy:\n",
    "            self.wait_epochs += 1\n",
    "            if self.wait_epochs >= self.patience:\n",
    "                print(f'Early stopping! No improvement in validation accuracy for {self.patience} epochs.')\n",
    "                self.model.stop_training = True\n",
    "        else:\n",
    "            self.best_val_accuracy = val_accuracy\n",
    "            self.wait_epochs = 0\n",
    "            self.model.save(f'model_self_impl_epoch_{epoch + 1}.h5')\n",
    "\n",
    "custom_callback = CustomCallback()\n",
    "early_stopping = EarlyStopping(monitor='val_accuracy', patience=3, restore_best_weights=True)"
   ]
  },
  {
   "cell_type": "code",
   "execution_count": null,
   "metadata": {},
   "outputs": [],
   "source": [
    "data_dir = \"/Users/michallupa/Downloads/Praca Inżynierska/Final models/C-NMC_Leukemia/training_data\"\n",
    "batch_size = 40\n",
    "\n",
    "train_df, valid_df, test_df = create_df(data_dir)\n",
    "\n",
    "train_gen, valid_gen, test_gen = create_image_data_generator(train_df, valid_df, test_df, batch_size)"
   ]
  },
  {
   "cell_type": "code",
   "execution_count": null,
   "metadata": {},
   "outputs": [],
   "source": [
    "images, labels = train_gen.next()\n",
    "class_img = list(train_gen.class_indices.keys())\n",
    "\n",
    "fig, axes = plt.subplots(1, 1, figsize=(15, 3))\n",
    "\n",
    "for i in range(1):\n",
    "    image = images[i] / 255  \n",
    "    plt.imshow(image)\n",
    "    index = np.argmax(labels[i])\n",
    "    plt.axis('off') \n",
    "    plt.title(class_img[index], color= 'black', fontsize= 15)\n",
    "\n",
    "plt.show()"
   ]
  },
  {
   "cell_type": "markdown",
   "metadata": {},
   "source": [
    "# Self Implemented"
   ]
  },
  {
   "cell_type": "code",
   "execution_count": null,
   "metadata": {},
   "outputs": [],
   "source": [
    "model = Sequential()\n",
    "\n",
    "model.add(Conv2D(32, (3, 3), activation='relu', input_shape=(224, 224, 3)))\n",
    "model.add(MaxPooling2D((2, 2)))\n",
    "\n",
    "model.add(Conv2D(64, (3, 3), activation='relu'))\n",
    "model.add(MaxPooling2D((2, 2)))\n",
    "\n",
    "model.add(Conv2D(128, (3, 3), activation='relu'))\n",
    "model.add(MaxPooling2D((2, 2)))\n",
    "\n",
    "model.add(Conv2D(64, (3, 3), activation='relu'))\n",
    "model.add(MaxPooling2D((2, 2)))\n",
    "\n",
    "model.add(Conv2D(32, (3, 3), activation='relu'))\n",
    "model.add(MaxPooling2D((2, 2)))\n",
    "\n",
    "model.add(Flatten())\n",
    "\n",
    "model.add(Dense(256, activation='relu'))\n",
    "model.add(Dropout(0.6)) \n",
    "model.add(Dense(64, activation='relu'))\n",
    "model.add(Dropout(0.3))  \n",
    "model.add(Dense(2, activation='softmax'))  \n",
    "\n",
    "model.compile(optimizer='adamax', loss='categorical_crossentropy', metrics=['accuracy'])\n",
    "model.summary()"
   ]
  },
  {
   "cell_type": "code",
   "execution_count": null,
   "metadata": {},
   "outputs": [],
   "source": [
    "log_dir = os.path.join(\"logs_self_imp\", \"fit\")\n",
    "tensorboard_callback = TensorBoard(log_dir=log_dir, histogram_freq=1)"
   ]
  },
  {
   "cell_type": "code",
   "execution_count": null,
   "metadata": {},
   "outputs": [],
   "source": [
    "batch_size = 40   \n",
    "epochs = 50   \n",
    "patience = 1 "
   ]
  },
  {
   "cell_type": "code",
   "execution_count": null,
   "metadata": {},
   "outputs": [],
   "source": [
    "history = model.fit(x= train_gen, epochs= epochs, verbose= 0, callbacks= [custom_callback,tensorboard_callback,early_stopping],\n",
    "                    validation_data= valid_gen, validation_steps= 1, shuffle= False)"
   ]
  },
  {
   "cell_type": "markdown",
   "metadata": {},
   "source": [
    "# ResNet50"
   ]
  },
  {
   "cell_type": "code",
   "execution_count": null,
   "metadata": {},
   "outputs": [],
   "source": [
    "base_model = ResNet50(weights=\"imagenet\", include_top=False, input_shape=(224, 224, 3))\n",
    "class_count =  2\n",
    "input_layer = Input(shape=(224, 224, 3))\n",
    "\n",
    "x = base_model(input_layer)\n",
    "\n",
    "x = BatchNormalization(axis=-1, momentum=0.99, epsilon=0.001)(x)\n",
    "x = Flatten()(x)\n",
    "x = Dense(256, kernel_regularizer=regularizers.l2(l=0.016), \n",
    "          activity_regularizer=regularizers.l1(0.006),\n",
    "          bias_regularizer=regularizers.l1(0.006), activation='relu')(x)\n",
    "x = Dropout(rate=0.45, seed=42)(x)\n",
    "\n",
    "\n",
    "output_layer = Dense(class_count, activation='softmax')(x)\n",
    "\n",
    "model = Model(inputs=input_layer, outputs=output_layer)\n",
    "\n",
    "model.compile(Adamax(learning_rate=0.001), loss='categorical_crossentropy', metrics=['accuracy'])\n",
    "\n",
    "model.summary()\n"
   ]
  },
  {
   "cell_type": "code",
   "execution_count": null,
   "metadata": {},
   "outputs": [],
   "source": [
    "log_dir = os.path.join(\"ResNet/logs_my_ResNet50\", \"fit\")\n",
    "tensorboard_callback = TensorBoard(log_dir=log_dir, histogram_freq=1)"
   ]
  },
  {
   "cell_type": "code",
   "execution_count": null,
   "metadata": {},
   "outputs": [],
   "source": [
    "history = model.fit(x= train_gen, epochs= epochs, verbose= 0, callbacks= [custom_callback,tensorboard_callback,early_stopping],\n",
    "                    validation_data= valid_gen, validation_steps= 1, shuffle= False)"
   ]
  },
  {
   "cell_type": "markdown",
   "metadata": {},
   "source": [
    "# EfficientNetB3"
   ]
  },
  {
   "cell_type": "code",
   "execution_count": null,
   "metadata": {},
   "outputs": [],
   "source": [
    "img_shape = (224, 224, 3)\n",
    "class_count = 2\n",
    "\n",
    "base_model = tf.keras.applications.efficientnet.EfficientNetB5(include_top= False, weights= \"imagenet\", input_shape= img_shape, pooling= 'max')\n",
    "\n",
    "model = Sequential([\n",
    "    base_model,\n",
    "    BatchNormalization(axis= -1, momentum= 0.99, epsilon= 0.001),\n",
    "    Dense(256, kernel_regularizer= regularizers.l2(l= 0.012), activity_regularizer= regularizers.l1(0.007),\n",
    "                bias_regularizer= regularizers.l1(0.007), activation= 'relu'),\n",
    "    Dropout(rate= 0.55, seed= 42),\n",
    "    Dense(class_count, activation= 'softmax')\n",
    "])\n",
    "\n",
    "model.compile(Adamax(learning_rate= 0.001), loss= 'categorical_crossentropy', metrics= ['accuracy'])\n",
    "\n",
    "model.summary()"
   ]
  },
  {
   "cell_type": "code",
   "execution_count": null,
   "metadata": {},
   "outputs": [],
   "source": [
    "log_dir = os.path.join(\"ENETB3/logs_my_ENETB3\", \"fit\")"
   ]
  },
  {
   "cell_type": "code",
   "execution_count": null,
   "metadata": {},
   "outputs": [],
   "source": [
    "tensorboard_callback = TensorBoard(log_dir=log_dir, histogram_freq=1)"
   ]
  },
  {
   "cell_type": "code",
   "execution_count": null,
   "metadata": {},
   "outputs": [],
   "source": [
    "history = model.fit(x= train_gen, epochs= epochs, verbose= 0, callbacks= [custom_callback,tensorboard_callback,early_stopping],\n",
    "                    validation_data= valid_gen, validation_steps= 1, shuffle= False)"
   ]
  },
  {
   "cell_type": "markdown",
   "metadata": {},
   "source": [
    "# EfficientNetB5"
   ]
  },
  {
   "cell_type": "code",
   "execution_count": null,
   "metadata": {},
   "outputs": [],
   "source": [
    "img_shape = (224, 224, 3)\n",
    "class_count = 2\n",
    "\n",
    "base_model = tf.keras.applications.efficientnet.EfficientNetB5(include_top= False, weights= \"imagenet\", input_shape= img_shape, pooling= 'max')\n",
    "\n",
    "model = Sequential([\n",
    "    base_model,\n",
    "    BatchNormalization(axis= -1, momentum= 0.99, epsilon= 0.001),\n",
    "    Dense(256, kernel_regularizer= regularizers.l2(l= 0.02), activity_regularizer= regularizers.l1(0.01),\n",
    "                bias_regularizer= regularizers.l1(0.01), activation= 'relu'),\n",
    "    Dropout(rate= 0.6, seed= 42),\n",
    "    Dense(class_count, activation= 'softmax')\n",
    "])\n",
    "\n",
    "model.compile(Adamax(learning_rate= 0.001), loss= 'categorical_crossentropy', metrics= ['accuracy'])\n",
    "\n",
    "model.summary()"
   ]
  },
  {
   "cell_type": "code",
   "execution_count": null,
   "metadata": {},
   "outputs": [],
   "source": [
    "log_dir = os.path.join(\"ENETB5/logs_my_ENET5\", \"fit\")\n",
    "tensorboard_callback = TensorBoard(log_dir=log_dir, histogram_freq=1)"
   ]
  },
  {
   "cell_type": "code",
   "execution_count": null,
   "metadata": {},
   "outputs": [],
   "source": [
    "history = model.fit(x= train_gen, epochs= epochs, verbose= 0, callbacks= [custom_callback,tensorboard_callback,early_stopping],\n",
    "                    validation_data= valid_gen, validation_steps= 1, shuffle= False)"
   ]
  },
  {
   "cell_type": "markdown",
   "metadata": {},
   "source": [
    "# Rezultat dla najlepszego modelu EfficientNetB3 po 11 epoce"
   ]
  },
  {
   "cell_type": "code",
   "execution_count": 103,
   "metadata": {},
   "outputs": [],
   "source": [
    "model = tf.keras.models.load_model('FINAL_model_ENETB3_11.h5')"
   ]
  },
  {
   "cell_type": "code",
   "execution_count": 104,
   "metadata": {},
   "outputs": [
    {
     "name": "stdout",
     "output_type": "stream",
     "text": [
      "20/20 [==============================] - 15s 724ms/step - loss: 0.1332 - accuracy: 0.9962\n",
      "20/20 [==============================] - 14s 716ms/step - loss: 0.2441 - accuracy: 0.9550\n",
      "20/20 [==============================] - 30s 1s/step - loss: 0.2306 - accuracy: 0.9600\n",
      "\n",
      "\n",
      "Strata na zbiorze treningowym:  0.1331900805234909\n",
      "Dokładność na zbiorze treningowym:  0.9962499737739563\n",
      "\n",
      "\n",
      "Strata na zbiorze walidacyjnym:  0.24411828815937042\n",
      "Dokładność na zbiorze walidacyjnym:  0.9549999833106995\n",
      "\n",
      "\n",
      "Strata na zbiorze testowym:  0.2306193709373474\n",
      "Dokładność na zbiorze testowym:  0.9599999785423279\n"
     ]
    }
   ],
   "source": [
    "ts_len = len(test_df)\n",
    "test_batch_size = max(sorted([ts_len // n for n in range(1, ts_len + 1) if ts_len % n == 0 and ts_len / n <= 80]))\n",
    "test_steps = ts_len // test_batch_size\n",
    "\n",
    "trening_result = model.evaluate(train_gen, steps=test_steps, verbose=1)\n",
    "validation_result = model.evaluate(valid_gen, steps=test_steps, verbose=1)\n",
    "test_result = model.evaluate(test_gen, steps=test_steps, verbose=1)\n",
    "print('\\n')\n",
    "print(\"Strata na zbiorze treningowym: \", trening_result[0])\n",
    "print(\"Dokładność na zbiorze treningowym: \", trening_result[1])\n",
    "print('\\n')\n",
    "print(\"Strata na zbiorze walidacyjnym: \", validation_result[0])\n",
    "print(\"Dokładność na zbiorze walidacyjnym: \", validation_result[1])\n",
    "print('\\n')\n",
    "print(\"Strata na zbiorze testowym: \", test_result[0])\n",
    "print(\"Dokładność na zbiorze testowym: \", test_result[1])\n"
   ]
  },
  {
   "cell_type": "markdown",
   "metadata": {},
   "source": [
    "# Macierz błędu"
   ]
  },
  {
   "cell_type": "code",
   "execution_count": 105,
   "metadata": {},
   "outputs": [
    {
     "name": "stderr",
     "output_type": "stream",
     "text": [
      "/var/folders/m0/2t7xmlf97qs84k0mg35df01c0000gn/T/ipykernel_2334/1273331605.py:1: UserWarning: `Model.predict_generator` is deprecated and will be removed in a future version. Please use `Model.predict`, which supports generators.\n",
      "  predictions = model.predict_generator(test_gen)\n"
     ]
    }
   ],
   "source": [
    "predictions = model.predict_generator(test_gen)\n",
    "y_predicted = np.argmax(predictions, axis=1)\n",
    "\n",
    "g_dict = test_gen.class_indices\n",
    "classes = list(g_dict.keys())\n",
    "plt.rc('font', size=16)\n",
    "\n",
    "cm = confusion_matrix(test_gen.classes, y_predicted)\n"
   ]
  },
  {
   "cell_type": "code",
   "execution_count": 106,
   "metadata": {},
   "outputs": [
    {
     "data": {
      "image/png": "[encoded data removed]",
      "text/plain": [
       "<Figure size 1000x800 with 2 Axes>"
      ]
     },
     "metadata": {},
     "output_type": "display_data"
    }
   ],
   "source": [
    "class_names = list(test_gen.class_indices.keys())\n",
    "\n",
    "plt.figure(figsize=(10, 8))\n",
    "sns.set(font_scale=1.2)\n",
    "sns.heatmap(cm, annot=True, fmt=\"d\", cmap=\"Greys\", xticklabels=class_names, yticklabels=class_names)\n",
    "plt.title('Macierz błędu')\n",
    "plt.xlabel('Predicted Label')\n",
    "plt.ylabel('True Label')\n",
    "plt.show()"
   ]
  },
  {
   "cell_type": "code",
   "execution_count": null,
   "metadata": {},
   "outputs": [],
   "source": []
  },
  {
   "cell_type": "code",
   "execution_count": null,
   "metadata": {},
   "outputs": [],
   "source": []
  }
 ],
 "metadata": {
  "kernelspec": {
   "display_name": "Python 3",
   "language": "python",
   "name": "python3"
  },
  "language_info": {
   "codemirror_mode": {
    "name": "ipython",
    "version": 3
   },
   "file_extension": ".py",
   "mimetype": "text/x-python",
   "name": "python",
   "nbconvert_exporter": "python",
   "pygments_lexer": "ipython3",
   "version": "3.9.18"
  }
 },
 "nbformat": 4,
 "nbformat_minor": 2
}
